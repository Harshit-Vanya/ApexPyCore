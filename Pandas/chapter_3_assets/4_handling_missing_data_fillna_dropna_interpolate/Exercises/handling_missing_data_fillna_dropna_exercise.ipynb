{
 "cells": [
  {
   "cell_type": "markdown",
   "id": "150af084",
   "metadata": {},
   "source": [
    "## <font color=\"maroon\"><h4 align=\"center\">Handling Missing Data - fillna, interpolate, dropna: Exercise</font>"
   ]
  },
  {
   "cell_type": "markdown",
   "id": "05e3f949",
   "metadata": {},
   "source": [
    "## <font color=\"blue\">About the data</font>\n",
    "- The file **fruits_data.csv** lists the monthly prices of Apple, Banana, Grapes, Mango, and Water Melons from January to October 2022.\n",
    "- Your task is to fill in the missing values according to the given instructions."
   ]
  },
  {
   "cell_type": "code",
   "execution_count": 1,
   "id": "12259bc3",
   "metadata": {},
   "outputs": [],
   "source": [
    "import pandas as pd"
   ]
  },
  {
   "cell_type": "markdown",
   "id": "e4ef0544",
   "metadata": {},
   "source": [
    "### <font color=\"purple\">**Question1**</font>\n",
    "- Read the csv file 'fruits_data.csv' into the dataframe 'df'.\n",
    "- show the number of rows and columns in it.\n",
    "- list all the columns present in the dataframe.\n",
    "- show the dataframe"
   ]
  },
  {
   "cell_type": "code",
   "execution_count": 45,
   "id": "653d68e1",
   "metadata": {},
   "outputs": [],
   "source": [
    "#read the csv file\n",
    "\n",
    "\n",
    "#show the number of rows and columns\n",
    "\n",
    "\n",
    "#list all the columns\n",
    "\n",
    "\n",
    "#show the dataframe\n"
   ]
  },
  {
   "cell_type": "markdown",
   "id": "6af3e192",
   "metadata": {},
   "source": [
    "### <font color=\"purple\">**Question2**</font>\n",
    "- Fill all the null values in the dataframe with '-1' and store the result to variable 'new_df'."
   ]
  },
  {
   "cell_type": "code",
   "execution_count": 46,
   "id": "dbdc6c33",
   "metadata": {},
   "outputs": [],
   "source": [
    "#fill null values with -1 and store it to 'new_df'\n",
    "\n",
    "\n",
    "#show the dataframe 'new_df'\n"
   ]
  },
  {
   "cell_type": "markdown",
   "id": "9a3da9a0",
   "metadata": {},
   "source": [
    "### <font color=\"purple\">**Question3**</font>\n",
    "Fill the null values in respective columns like below:\n",
    "\n",
    "    - apple(1kg): Mean value of that column\n",
    "    - banana(1 dozen): Mean value of that column\n",
    "    - grapes(1kg): Median value of that column\n",
    "    - mango(1kg): Median value of that column\n",
    "    - Water Melons(1): Fill null values with \"Not Available\".\n",
    "    \n",
    "Finally store the output to 'new_df' variable"
   ]
  },
  {
   "cell_type": "code",
   "execution_count": 47,
   "id": "b4b9e362",
   "metadata": {},
   "outputs": [],
   "source": [
    "#write the code to fill null values as per above condition\n",
    "#store the result to 'new_df' variable\n",
    "\n",
    "\n",
    "#show the dataframe 'new_df'\n"
   ]
  },
  {
   "cell_type": "markdown",
   "id": "c55f855f",
   "metadata": {},
   "source": [
    "### <font color=\"purple\">**Question4**</font>\n",
    "\n",
    "- Fill the null values with the non-null value before it (Forward fill method)\n",
    "- Store the result in 'new_df'."
   ]
  },
  {
   "cell_type": "code",
   "execution_count": 48,
   "id": "db3b903a",
   "metadata": {},
   "outputs": [],
   "source": [
    "#fill null values using 'ffill'\n",
    "\n",
    "\n",
    "#show the dataframe 'new_df'"
   ]
  },
  {
   "cell_type": "markdown",
   "id": "f66f75da",
   "metadata": {},
   "source": [
    "### <font color=\"purple\">**Question5**</font>\n",
    "- Drop the rows if it does not contain atleast 4 non-null values (use the concept of thresholding).\n",
    "- store the result in 'new_df'"
   ]
  },
  {
   "cell_type": "code",
   "execution_count": 49,
   "id": "77560224",
   "metadata": {},
   "outputs": [],
   "source": [
    "#write the code here\n",
    "\n",
    "\n",
    "#show the dataframe 'new_df'\n"
   ]
  },
  {
   "cell_type": "markdown",
   "id": "da56ecdf",
   "metadata": {},
   "source": [
    "### <font color=\"purple\">**Question6**</font>\n",
    "\n",
    "\n",
    "- Finally, remove the row if it contain null value and store the result in 'new_df'\n",
    "- save that dataframe to csv:'final_data.csv' and make sure to set index to False"
   ]
  },
  {
   "cell_type": "code",
   "execution_count": 52,
   "id": "fcda1c22",
   "metadata": {},
   "outputs": [],
   "source": [
    "#write the code here\n",
    "\n",
    "\n",
    "\n",
    "#show the dataframe 'new_df'"
   ]
  },
  {
   "cell_type": "code",
   "execution_count": 53,
   "id": "1ce1200c",
   "metadata": {},
   "outputs": [],
   "source": [
    "#save the dataframe to 'final_data.csv'\n"
   ]
  }
 ],
 "metadata": {
  "kernelspec": {
   "display_name": "Python 3 (ipykernel)",
   "language": "python",
   "name": "python3"
  },
  "language_info": {
   "codemirror_mode": {
    "name": "ipython",
    "version": 3
   },
   "file_extension": ".py",
   "mimetype": "text/x-python",
   "name": "python",
   "nbconvert_exporter": "python",
   "pygments_lexer": "ipython3",
   "version": "3.8.10"
  }
 },
 "nbformat": 4,
 "nbformat_minor": 5
}
