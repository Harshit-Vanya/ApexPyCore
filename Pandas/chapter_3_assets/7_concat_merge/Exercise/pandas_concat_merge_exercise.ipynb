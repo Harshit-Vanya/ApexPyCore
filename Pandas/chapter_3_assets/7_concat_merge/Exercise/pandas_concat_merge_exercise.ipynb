{
 "cells": [
  {
   "cell_type": "markdown",
   "id": "cea31f7d",
   "metadata": {},
   "source": [
    "# <font color=\"maroon\"><h4 align=\"center\">Pandas Concat and Merge: Exercise</h4></font>"
   ]
  },
  {
   "cell_type": "code",
   "execution_count": 53,
   "id": "35488b6a",
   "metadata": {},
   "outputs": [],
   "source": [
    "import pandas as pd"
   ]
  },
  {
   "cell_type": "markdown",
   "id": "c9390bfa",
   "metadata": {},
   "source": [
    "### <font color=\"purple\">**Question1**</font>\n",
    "- Read the 3 csv files provided into seperate dataframes (movies.csv to df_movies, financials.csv to df_financials, languages.csv to df_languages).\n",
    "- show the top 3 rows for each dataframe."
   ]
  },
  {
   "cell_type": "code",
   "execution_count": 63,
   "id": "52324c14",
   "metadata": {},
   "outputs": [],
   "source": [
    "#for movies.csv\n",
    "\n",
    "\n",
    "#for financials.csv\n",
    "\n",
    "\n",
    "#for languages.csv\n"
   ]
  },
  {
   "cell_type": "code",
   "execution_count": 64,
   "id": "09593f59",
   "metadata": {},
   "outputs": [],
   "source": [
    "#show top3 rows in df_movies\n"
   ]
  },
  {
   "cell_type": "code",
   "execution_count": 65,
   "id": "7f93814e",
   "metadata": {},
   "outputs": [],
   "source": [
    "#show top3 rows in df_financials\n"
   ]
  },
  {
   "cell_type": "code",
   "execution_count": 66,
   "id": "3510027b",
   "metadata": {},
   "outputs": [],
   "source": [
    "#show top3 rows in df_languages\n"
   ]
  },
  {
   "cell_type": "markdown",
   "id": "0d6a6cba",
   "metadata": {},
   "source": [
    "### <font color=\"purple\">**Question2**</font>\n",
    "- Read the csv file 'new_movies.csv' and store it into dataframe 'df_new_movies'\n",
    "- Now, concat the dataframes [df_movies, df_new_movies] and store the results again to df_movies. Make sure to ignore the index while concatenating"
   ]
  },
  {
   "cell_type": "code",
   "execution_count": 67,
   "id": "116b4057",
   "metadata": {},
   "outputs": [],
   "source": [
    "#read the csv file: 'new_movies.csv'\n",
    "\n",
    "\n",
    "#show the dataframe\n"
   ]
  },
  {
   "cell_type": "code",
   "execution_count": 68,
   "id": "9bb51900",
   "metadata": {},
   "outputs": [],
   "source": [
    "#concat the two dataframes ['df_movies', df_new_movies]\n",
    "\n",
    "\n",
    "#show the last 5 rows\n"
   ]
  },
  {
   "cell_type": "markdown",
   "id": "877a7202",
   "metadata": {},
   "source": [
    "### <font color=\"purple\">**Question3**</font>\n",
    "\n",
    "- Merge the dataframe df_movies with the df_languages on 'language_id'.\n",
    "- Make sure you perform a **inner** join here.\n",
    "- Store the result again to df_movies"
   ]
  },
  {
   "cell_type": "code",
   "execution_count": 69,
   "id": "3ea91ff9",
   "metadata": {},
   "outputs": [],
   "source": [
    "#perform the join operation\n",
    "\n",
    "\n",
    "#show the top 5 rows\n"
   ]
  },
  {
   "cell_type": "markdown",
   "id": "66094ef0",
   "metadata": {},
   "source": [
    "### <font color=\"purple\">**Question4**</font>\n",
    "\n",
    "- Merge the dataframe df_movies with the df_financials on 'movie_id'.\n",
    "- Make sure you perform a **left** join here.\n",
    "- Store the result again to df_movies"
   ]
  },
  {
   "cell_type": "code",
   "execution_count": 70,
   "id": "29a30ca4",
   "metadata": {},
   "outputs": [],
   "source": [
    "#perform the join operation\n",
    "\n",
    "\n",
    "#show the last 5 rows\n"
   ]
  },
  {
   "cell_type": "markdown",
   "id": "181b906d",
   "metadata": {},
   "source": [
    "### <font color=\"purple\">**Question5**</font>\n",
    "\n",
    "- Save the 'df_movies' dataframe with name 'final_complete_data.csv'.\n",
    "- Only take the columns 'movie_id', 'title', 'lang_name', 'budget', 'revenue', 'currency'\n",
    "- set the index to False while saving the dataframe"
   ]
  },
  {
   "cell_type": "code",
   "execution_count": 71,
   "id": "c57367bb",
   "metadata": {},
   "outputs": [],
   "source": [
    "#save the dataframe to 'final_complete_data.csv'\n"
   ]
  }
 ],
 "metadata": {
  "kernelspec": {
   "display_name": "Python 3 (ipykernel)",
   "language": "python",
   "name": "python3"
  },
  "language_info": {
   "codemirror_mode": {
    "name": "ipython",
    "version": 3
   },
   "file_extension": ".py",
   "mimetype": "text/x-python",
   "name": "python",
   "nbconvert_exporter": "python",
   "pygments_lexer": "ipython3",
   "version": "3.8.10"
  }
 },
 "nbformat": 4,
 "nbformat_minor": 5
}
