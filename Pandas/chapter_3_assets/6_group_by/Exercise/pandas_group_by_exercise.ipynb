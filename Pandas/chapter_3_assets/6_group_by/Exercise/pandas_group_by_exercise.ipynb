{
 "cells": [
  {
   "cell_type": "markdown",
   "id": "eeaf906a",
   "metadata": {},
   "source": [
    "## <font color=\"maroon\"><h4 align=\"center\">Pandas Group By: Exercise</font>"
   ]
  },
  {
   "cell_type": "code",
   "execution_count": 4,
   "id": "4b568c3a",
   "metadata": {},
   "outputs": [],
   "source": [
    "import pandas as pd"
   ]
  },
  {
   "cell_type": "markdown",
   "id": "036f22e5",
   "metadata": {},
   "source": [
    "### <font color=\"purple\">**Question1**</font>\n",
    "- Read the csv file 'movies_data.csv' and store it in a variable 'df'"
   ]
  },
  {
   "cell_type": "code",
   "execution_count": 1,
   "id": "8314c7ee",
   "metadata": {},
   "outputs": [],
   "source": [
    "#read the excel file\n",
    "\n",
    "\n",
    "#show the df"
   ]
  },
  {
   "cell_type": "markdown",
   "id": "02b7385f",
   "metadata": {},
   "source": [
    "### <font color=\"purple\">**Question2**</font>\n",
    "- Group the dataframe by 'industry' and store it in a variable 'g'\n",
    "- Get the size of each grouped category\n",
    "- Get all the data related to \"Bollywood\""
   ]
  },
  {
   "cell_type": "code",
   "execution_count": 2,
   "id": "cc799a39",
   "metadata": {},
   "outputs": [],
   "source": [
    "#group by 'industry' and store it in variable 'g'\n",
    "\n",
    "\n",
    "#get the size of each category\n"
   ]
  },
  {
   "cell_type": "code",
   "execution_count": 4,
   "id": "6c2a47ca",
   "metadata": {},
   "outputs": [],
   "source": [
    "#get the 'Bollywood' group\n"
   ]
  },
  {
   "cell_type": "markdown",
   "id": "ae49032a",
   "metadata": {},
   "source": [
    "### <font color=\"purple\">**Question3: Group data using custom function:**</font>\n",
    "Here, the requirement is to create four groups based on **\"imdb_rating\"**\n",
    "\n",
    "- 1 <= imdb_rating <= 3.9 ---> 'Poor'\n",
    "- 4 <= imdb_rating <= 7.9 ---> 'Average'\n",
    "- 8 <= imdb_rating <= 10 --->  'Good'\n",
    "- If none of above satisfy, then return 'others'"
   ]
  },
  {
   "cell_type": "code",
   "execution_count": 5,
   "id": "027118b4",
   "metadata": {},
   "outputs": [],
   "source": [
    "#complete the function 'grouper'\n",
    "\n",
    "def grouper(df, idx, col):\n",
    "    '''\n",
    "        This function returns category based on imdb_rating\n",
    "    '''\n",
    "    pass"
   ]
  },
  {
   "cell_type": "code",
   "execution_count": 6,
   "id": "343d129e",
   "metadata": {},
   "outputs": [],
   "source": [
    "#groupby based on the grouper function and store it in a variable 'g'\n",
    "#Note: use the imdb_rating column\n",
    "\n",
    "\n",
    "#iterate through the 'g' and print all the groups\n"
   ]
  }
 ],
 "metadata": {
  "kernelspec": {
   "display_name": "Python 3 (ipykernel)",
   "language": "python",
   "name": "python3"
  },
  "language_info": {
   "codemirror_mode": {
    "name": "ipython",
    "version": 3
   },
   "file_extension": ".py",
   "mimetype": "text/x-python",
   "name": "python",
   "nbconvert_exporter": "python",
   "pygments_lexer": "ipython3",
   "version": "3.8.10"
  }
 },
 "nbformat": 4,
 "nbformat_minor": 5
}
