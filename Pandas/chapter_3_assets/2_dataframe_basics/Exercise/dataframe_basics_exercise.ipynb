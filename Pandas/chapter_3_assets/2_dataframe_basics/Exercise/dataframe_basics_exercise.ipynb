{
 "cells": [
  {
   "cell_type": "markdown",
   "id": "197b3173",
   "metadata": {},
   "source": [
    "## <font color=\"maroon\"><h4 align=\"center\"> DataFrame Basics (Exercise)</font>"
   ]
  },
  {
   "cell_type": "markdown",
   "id": "9e7d4ea2",
   "metadata": {},
   "source": [
    "**Peter Pandey** arrived in Bangalore(a city in India) with the aim of finding a suitable house that fits his budget and location preferences. He has some queries related to house selection and is seeking solutions.\n",
    "\n",
    "Help Peter Pandey to answer his questions and you are provided with a sample dataset of house information that contain area_type, availability, location, size, society, total_sqft, bath, balcony, and price."
   ]
  },
  {
   "cell_type": "code",
   "execution_count": 1,
   "id": "0936efe6",
   "metadata": {},
   "outputs": [],
   "source": [
    "import pandas as pd"
   ]
  },
  {
   "cell_type": "markdown",
   "id": "ab6a99c0",
   "metadata": {},
   "source": [
    "### <font color=\"purple\">**Question1**</font>\n",
    "- Read the csv file 'bengaluru_house_prices.csv' and store it in variable 'df'.\n",
    "- print the number of rows and columns in it\n",
    "- print the Top 5 rows"
   ]
  },
  {
   "cell_type": "code",
   "execution_count": 2,
   "id": "121dfe5e",
   "metadata": {},
   "outputs": [],
   "source": [
    "#read the csv file\n",
    "\n",
    "\n",
    "#show the number of rows and columns in dataframe 'df'\n",
    "\n",
    "\n",
    "#show Top5 rows\n"
   ]
  },
  {
   "cell_type": "markdown",
   "id": "a5993728",
   "metadata": {},
   "source": [
    "### <font color=\"purple\">**Question2**</font>\n",
    "- show the unique categories present in **'area_type'** and **'size'** columns"
   ]
  },
  {
   "cell_type": "code",
   "execution_count": 3,
   "id": "1da5d539",
   "metadata": {},
   "outputs": [],
   "source": [
    "#unique values in 'area_type' column\n"
   ]
  },
  {
   "cell_type": "code",
   "execution_count": 4,
   "id": "0b128e07",
   "metadata": {},
   "outputs": [],
   "source": [
    "#unique values in 'size' column\n"
   ]
  },
  {
   "cell_type": "markdown",
   "id": "ca57bbee",
   "metadata": {},
   "source": [
    "### <font color=\"purple\">**Question3**</font>\n",
    "- Filter data which have **'2 BHK'** house size and area_type of **'Super built-up  Area'**\n",
    "- Also get the count of such rows"
   ]
  },
  {
   "cell_type": "code",
   "execution_count": 5,
   "id": "cf8a6f55",
   "metadata": {},
   "outputs": [],
   "source": [
    "#filter the data\n"
   ]
  },
  {
   "cell_type": "code",
   "execution_count": 6,
   "id": "63dff008",
   "metadata": {},
   "outputs": [],
   "source": [
    "#show the number of rows for the filtered data\n"
   ]
  },
  {
   "cell_type": "markdown",
   "id": "5fb0689d",
   "metadata": {},
   "source": [
    "### <font color=\"purple\">**Question4**</font>\n",
    "- Add a new column **'price_category'** which contain a category based on the price of house.\n",
    "- If price of house is less than 80, **\"Affordable\"**, otherwise **\"High Cost\"**"
   ]
  },
  {
   "cell_type": "code",
   "execution_count": 7,
   "id": "75cc7c4d",
   "metadata": {},
   "outputs": [],
   "source": [
    "#Add the column 'price_category'\n"
   ]
  },
  {
   "cell_type": "code",
   "execution_count": 8,
   "id": "318bcf31",
   "metadata": {},
   "outputs": [],
   "source": [
    "#show the updated dataframe: top5 rows\n"
   ]
  },
  {
   "cell_type": "markdown",
   "id": "5ec4cf60",
   "metadata": {},
   "source": [
    "### <font color=\"purple\">**Question5**</font>\n",
    "\n",
    "- Get all the rows that has prices greater than **mean/average** price of all houses\n"
   ]
  },
  {
   "cell_type": "code",
   "execution_count": 9,
   "id": "ec7df48e",
   "metadata": {},
   "outputs": [],
   "source": [
    "#write condition here\n"
   ]
  }
 ],
 "metadata": {
  "kernelspec": {
   "display_name": "Python 3 (ipykernel)",
   "language": "python",
   "name": "python3"
  },
  "language_info": {
   "codemirror_mode": {
    "name": "ipython",
    "version": 3
   },
   "file_extension": ".py",
   "mimetype": "text/x-python",
   "name": "python",
   "nbconvert_exporter": "python",
   "pygments_lexer": "ipython3",
   "version": "3.8.10"
  }
 },
 "nbformat": 4,
 "nbformat_minor": 5
}
