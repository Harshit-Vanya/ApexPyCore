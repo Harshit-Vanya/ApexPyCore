{
 "cells": [
  {
   "cell_type": "markdown",
   "id": "a411776d",
   "metadata": {},
   "source": [
    "## <font color=\"maroon\"><h4 align=\"center\">Read/Write CSV and Excel Files (Exercise)</font>"
   ]
  },
  {
   "cell_type": "code",
   "execution_count": 13,
   "id": "0c44c0f5",
   "metadata": {},
   "outputs": [],
   "source": [
    "import pandas as pd"
   ]
  },
  {
   "cell_type": "markdown",
   "id": "cc03a9c6",
   "metadata": {},
   "source": [
    "### <font color=\"purple\">**Question1**</font>\n",
    "- Read the csv file with name \"movies_data.csv\"\n",
    "- Show the Top5 rows"
   ]
  },
  {
   "cell_type": "code",
   "execution_count": 1,
   "id": "80409c6c",
   "metadata": {},
   "outputs": [],
   "source": [
    "#read the csv file into the variable 'df'\n",
    "\n",
    "\n",
    "#show the top 5 rows\n"
   ]
  },
  {
   "cell_type": "markdown",
   "id": "2f2889ce",
   "metadata": {},
   "source": [
    "### <font color=\"purple\">**Question2**</font>\n",
    "- Add a new column \"year_classify\" to the above dataframe.\n",
    "- If release_year is less than 2000, then 'before 2000' or else 'From 2000'"
   ]
  },
  {
   "cell_type": "code",
   "execution_count": 4,
   "id": "6b4d5e76",
   "metadata": {},
   "outputs": [],
   "source": [
    "#add the column \"year_classify\"\n",
    "\n",
    "\n",
    "#show the df"
   ]
  },
  {
   "cell_type": "markdown",
   "id": "bcf98b79",
   "metadata": {},
   "source": [
    "### <font color=\"purple\">**Question3**</font>\n",
    "\n",
    "- Save the above dataframe with the name \"final_movie_data.csv\" and include only columns 'movie_id', 'title', 'budget', 'revenue' and 'year_classify'. Also set index to False**."
   ]
  },
  {
   "cell_type": "code",
   "execution_count": 5,
   "id": "cbc60e64",
   "metadata": {},
   "outputs": [],
   "source": [
    "#save the dataframe\n"
   ]
  }
 ],
 "metadata": {
  "kernelspec": {
   "display_name": "Python 3 (ipykernel)",
   "language": "python",
   "name": "python3"
  },
  "language_info": {
   "codemirror_mode": {
    "name": "ipython",
    "version": 3
   },
   "file_extension": ".py",
   "mimetype": "text/x-python",
   "name": "python",
   "nbconvert_exporter": "python",
   "pygments_lexer": "ipython3",
   "version": "3.11.1"
  }
 },
 "nbformat": 4,
 "nbformat_minor": 5
}
