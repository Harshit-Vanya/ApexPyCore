{
 "cells": [
  {
   "cell_type": "markdown",
   "id": "5841672b",
   "metadata": {},
   "source": [
    "## <font color=\"maroon\"><h4 align=\"center\">Handling Missing Data - replace method: Exercise</font>"
   ]
  },
  {
   "cell_type": "markdown",
   "id": "a31a46f7",
   "metadata": {},
   "source": [
    "**Peter Pandey** is the owner of a popular hotel located in Bangalore. He keeps a CSV file called **'food_db.csv'** that contains a comprehensive list of food items available at his hotel. The database contains information such as a unique food_id, name, discount, price, and rating for each food item.\n",
    "\n",
    "Peter is currently planning to update the food database and make some changes to the existing values. To accomplish this task, he seeks your help and expertise to perform the following tasks."
   ]
  },
  {
   "cell_type": "code",
   "execution_count": 1,
   "id": "5e864399",
   "metadata": {},
   "outputs": [],
   "source": [
    "import pandas as pd"
   ]
  },
  {
   "cell_type": "markdown",
   "id": "407dffb4",
   "metadata": {},
   "source": [
    "### <font color=\"purple\">**Question1**</font>\n",
    "- Read the csv file 'food_db.csv' and store it in variable 'df'.\n",
    "- print the number of rows and columns in it\n",
    "- show the dataframe"
   ]
  },
  {
   "cell_type": "code",
   "execution_count": 18,
   "id": "6a66d5a4",
   "metadata": {},
   "outputs": [],
   "source": [
    "#read the csv file\n",
    "\n",
    "\n",
    "#show the number of rows and columns in dataframe 'df'\n",
    "\n",
    "\n",
    "#show the dataframe\n"
   ]
  },
  {
   "cell_type": "markdown",
   "id": "98e05e82",
   "metadata": {},
   "source": [
    "### <font color=\"purple\">**Question2**</font>\n",
    "- Replace the 5% and 10% discounts to 13% inorder to attract more customers\n",
    "- store the results in a variable 'new_df'\n",
    "- show the dataframe 'new_df'"
   ]
  },
  {
   "cell_type": "code",
   "execution_count": 19,
   "id": "6eb62dbc",
   "metadata": {},
   "outputs": [],
   "source": [
    "#write your logic here\n",
    "\n",
    "\n",
    "#show the dataframe\n"
   ]
  },
  {
   "cell_type": "markdown",
   "id": "1d8c8868",
   "metadata": {},
   "source": [
    "### <font color=\"purple\">**Question3**</font>\n",
    "- Replace the categorical column 'rating' with corresponding numerical values.\n",
    "- Criteria: ['Excellent': 4, 'very Good': 3, 'Good': 2, 'Average': 1]\n",
    "- store the results in a variable 'new_df'\n",
    "- show the dataframe 'new_df'"
   ]
  },
  {
   "cell_type": "code",
   "execution_count": 20,
   "id": "40827d70",
   "metadata": {},
   "outputs": [],
   "source": [
    "#write your logic here\n",
    "\n",
    "\n",
    "#show the new_df dataframe\n"
   ]
  }
 ],
 "metadata": {
  "kernelspec": {
   "display_name": "Python 3 (ipykernel)",
   "language": "python",
   "name": "python3"
  },
  "language_info": {
   "codemirror_mode": {
    "name": "ipython",
    "version": 3
   },
   "file_extension": ".py",
   "mimetype": "text/x-python",
   "name": "python",
   "nbconvert_exporter": "python",
   "pygments_lexer": "ipython3",
   "version": "3.8.10"
  }
 },
 "nbformat": 4,
 "nbformat_minor": 5
}
